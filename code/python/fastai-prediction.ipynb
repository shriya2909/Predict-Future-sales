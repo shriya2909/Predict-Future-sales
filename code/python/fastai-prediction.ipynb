{
 "cells": [
  {
   "cell_type": "markdown",
   "metadata": {},
   "source": [
    "# Time series prediction with the fastai library"
   ]
  },
  {
   "cell_type": "markdown",
   "metadata": {},
   "source": [
    "Based on [fast.ai Lesson 3](https://course.fast.ai/lessons/lesson3.html) on deep learning for structured data."
   ]
  },
  {
   "cell_type": "code",
   "execution_count": 1,
   "metadata": {},
   "outputs": [],
   "source": [
    "%matplotlib inline\n",
    "%reload_ext autoreload\n",
    "%autoreload 2"
   ]
  },
  {
   "cell_type": "code",
   "execution_count": 2,
   "metadata": {},
   "outputs": [
    {
     "name": "stdout",
     "output_type": "stream",
     "text": [
      "True\n"
     ]
    }
   ],
   "source": [
    "import torch, cv2\n",
    "print(torch.cuda.is_available())"
   ]
  },
  {
   "cell_type": "code",
   "execution_count": 3,
   "metadata": {},
   "outputs": [],
   "source": [
    "from fastai.structured import *\n",
    "from fastai.column_data import *\n",
    "np.set_printoptions(threshold=50, edgeitems=20)"
   ]
  },
  {
   "cell_type": "code",
   "execution_count": 4,
   "metadata": {},
   "outputs": [],
   "source": [
    "import os\n",
    "data_dir = \"../../data\"\n",
    "raw_data_dir = os.path.join(data_dir, \"raw\")\n",
    "assert os.path.exists(raw_data_dir)\n",
    "derived_data_dir = os.path.join(data_dir, \"derived\")\n",
    "assert os.path.exists(derived_data_dir)\n",
    "PATH=derived_data_dir"
   ]
  },
  {
   "cell_type": "code",
   "execution_count": 5,
   "metadata": {},
   "outputs": [],
   "source": [
    "assert os.path.exists(PATH)"
   ]
  },
  {
   "cell_type": "code",
   "execution_count": null,
   "metadata": {},
   "outputs": [],
   "source": []
  },
  {
   "cell_type": "markdown",
   "metadata": {
    "collapsed": true,
    "heading_collapsed": true,
    "scrolled": false
   },
   "source": [
    "## Create datasets"
   ]
  },
  {
   "cell_type": "code",
   "execution_count": 6,
   "metadata": {},
   "outputs": [],
   "source": [
    "items = pd.read_csv(os.path.join(raw_data_dir, \"items.csv\"))\n",
    "sales_train = pd.read_csv(os.path.join(raw_data_dir, \"sales_train.csv\"))\n",
    "test = pd.read_csv(os.path.join(raw_data_dir, \"test.csv\"))"
   ]
  },
  {
   "cell_type": "code",
   "execution_count": 7,
   "metadata": {},
   "outputs": [],
   "source": [
    "weather = pd.read_csv(os.path.join(raw_data_dir, \"tas_1991_2015.csv\"))"
   ]
  },
  {
   "cell_type": "code",
   "execution_count": 8,
   "metadata": {},
   "outputs": [],
   "source": [
    "# merge in category info to the data\n",
    "sales_train = sales_train.merge(items, on=\"item_id\", how=\"left\").drop(columns=\"item_name\")\n",
    "test = test.merge(items, on=\"item_id\", how=\"left\").drop(columns=\"item_name\")"
   ]
  },
  {
   "cell_type": "code",
   "execution_count": 9,
   "metadata": {},
   "outputs": [],
   "source": [
    "# manually set the date and date_block_num for the test data, which is all from November 2015\n",
    "test[\"date\"] = \"11.01.2015\"\n",
    "test[\"date_block_num\"] = 34\n",
    "test[\"year\"] = 2015\n",
    "test[\"month\"] = 11"
   ]
  },
  {
   "cell_type": "code",
   "execution_count": 10,
   "metadata": {
    "hidden": true
   },
   "outputs": [],
   "source": [
    "from IPython.display import HTML, display"
   ]
  },
  {
   "cell_type": "code",
   "execution_count": 12,
   "metadata": {
    "hidden": true,
    "scrolled": false
   },
   "outputs": [],
   "source": [
    "# Compatibility issue with version 0.22.0 of pandas....\n",
    "#DataFrameSummary(sales_train).summary()"
   ]
  },
  {
   "cell_type": "markdown",
   "metadata": {},
   "source": [
    "## Create Train Dataset"
   ]
  },
  {
   "cell_type": "code",
   "execution_count": 11,
   "metadata": {},
   "outputs": [],
   "source": [
    "dates = pd.to_datetime(sales_train.date, format=\"%d.%m.%Y\")\n",
    "sales_train[\"year\"] = [d.year for d in dates]\n",
    "sales_train[\"month\"] = [d.month for d in dates]"
   ]
  },
  {
   "cell_type": "code",
   "execution_count": 12,
   "metadata": {},
   "outputs": [],
   "source": [
    "# merge in weather info to the data\n",
    "weather.columns = [col.lower().strip() for col in weather.columns.values]\n",
    "weather.drop(columns=[\"country\", \"iso3\", \"iso2\"], inplace=True)"
   ]
  },
  {
   "cell_type": "code",
   "execution_count": 13,
   "metadata": {},
   "outputs": [
    {
     "name": "stdout",
     "output_type": "stream",
     "text": [
      "sales_train\n",
      " date                 object\n",
      "date_block_num        int64\n",
      "shop_id               int64\n",
      "item_id               int64\n",
      "item_price          float64\n",
      "item_cnt_day        float64\n",
      "item_category_id      int64\n",
      "year                  int64\n",
      "month                 int64\n",
      "dtype: object\n",
      "\n",
      "test\n",
      " ID                   int64\n",
      "shop_id              int64\n",
      "item_id              int64\n",
      "item_category_id     int64\n",
      "date                object\n",
      "date_block_num       int64\n",
      "year                 int64\n",
      "month                int64\n",
      "dtype: object\n"
     ]
    }
   ],
   "source": [
    "print(\"sales_train\\n\", sales_train.dtypes)\n",
    "print()\n",
    "print(\"test\\n\", test.dtypes)"
   ]
  },
  {
   "cell_type": "code",
   "execution_count": 14,
   "metadata": {},
   "outputs": [],
   "source": [
    "sales_train = sales_train.merge(weather, on=[\"year\", \"month\"], how=\"left\")\n",
    "test = test.merge(weather, on=[\"year\", \"month\"], how=\"left\")"
   ]
  },
  {
   "cell_type": "code",
   "execution_count": 184,
   "metadata": {
    "scrolled": false
   },
   "outputs": [
    {
     "name": "stdout",
     "output_type": "stream",
     "text": [
      "100000 6.21%\n",
      "200000 12.43%\n",
      "300000 18.64%\n",
      "400000 24.86%\n",
      "500000 31.07%\n",
      "600000 37.29%\n",
      "700000 43.50%\n",
      "800000 49.72%\n",
      "900000 55.93%\n",
      "1000000 62.15%\n",
      "1100000 68.36%\n",
      "1200000 74.57%\n",
      "1300000 80.79%\n",
      "1400000 87.00%\n",
      "1500000 93.22%\n",
      "1600000 99.43%\n",
      "0 1609124\n"
     ]
    }
   ],
   "source": [
    "# create a new train dataset at the month level\n",
    "month_cnt_list = []\n",
    "month_price_dict = {}\n",
    "processed = 0\n",
    "errors = 0\n",
    "for key, group in sales_train.groupby(by=[\"date_block_num\", \"year\", \"month\", \"shop_id\", \"item_id\"]):\n",
    "    processed += 1\n",
    "    if processed % 100000 == 0:\n",
    "        print(processed, \"%.2f%%\" % (processed / 1609124 * 100))\n",
    "    if len(group) == 0:\n",
    "        errors += 1\n",
    "        continue\n",
    "    \n",
    "    date_block_num, year, month, shop_id, item_id = key\n",
    "    item_cnt_month = np.sum(group.item_cnt_day)\n",
    "    \n",
    "    month_price_dict_key = \"%d|%d|%d\" % (shop_id, item_id, date_block_num)\n",
    "    month_price = np.mean(group.item_price)\n",
    "    month_price_dict[month_price_dict_key] = month_price\n",
    "    \n",
    "    month_cnt_list.append({\"date_block_num\": date_block_num, \n",
    "                           \"year\": year, \n",
    "                           \"month\": month, \n",
    "                           \"shop_id\": shop_id, \n",
    "                           \"item_id\": item_id, \n",
    "                           \"item_cnt_month\": item_cnt_month})\n",
    "print(errors, processed)"
   ]
  },
  {
   "cell_type": "code",
   "execution_count": 185,
   "metadata": {},
   "outputs": [
    {
     "data": {
      "text/plain": [
       "1609124"
      ]
     },
     "execution_count": 185,
     "metadata": {},
     "output_type": "execute_result"
    }
   ],
   "source": [
    "df = pd.DataFrame(month_cnt_list)\n",
    "len(df)"
   ]
  },
  {
   "cell_type": "code",
   "execution_count": null,
   "metadata": {},
   "outputs": [],
   "source": []
  },
  {
   "cell_type": "code",
   "execution_count": null,
   "metadata": {},
   "outputs": [],
   "source": [
    "# set the prev month price for every month\n",
    "# TODO"
   ]
  },
  {
   "cell_type": "code",
   "execution_count": 186,
   "metadata": {},
   "outputs": [
    {
     "data": {
      "text/html": [
       "<div>\n",
       "<style scoped>\n",
       "    .dataframe tbody tr th:only-of-type {\n",
       "        vertical-align: middle;\n",
       "    }\n",
       "\n",
       "    .dataframe tbody tr th {\n",
       "        vertical-align: top;\n",
       "    }\n",
       "\n",
       "    .dataframe thead th {\n",
       "        text-align: right;\n",
       "    }\n",
       "</style>\n",
       "<table border=\"1\" class=\"dataframe\">\n",
       "  <thead>\n",
       "    <tr style=\"text-align: right;\">\n",
       "      <th></th>\n",
       "      <th>date_block_num</th>\n",
       "      <th>item_cnt_month</th>\n",
       "      <th>item_id</th>\n",
       "      <th>month</th>\n",
       "      <th>shop_id</th>\n",
       "      <th>year</th>\n",
       "    </tr>\n",
       "  </thead>\n",
       "  <tbody>\n",
       "    <tr>\n",
       "      <th>975408</th>\n",
       "      <td>18</td>\n",
       "      <td>1.0</td>\n",
       "      <td>20231</td>\n",
       "      <td>7</td>\n",
       "      <td>2</td>\n",
       "      <td>2014</td>\n",
       "    </tr>\n",
       "    <tr>\n",
       "      <th>735008</th>\n",
       "      <td>12</td>\n",
       "      <td>2.0</td>\n",
       "      <td>2017</td>\n",
       "      <td>1</td>\n",
       "      <td>55</td>\n",
       "      <td>2014</td>\n",
       "    </tr>\n",
       "    <tr>\n",
       "      <th>1313647</th>\n",
       "      <td>25</td>\n",
       "      <td>1.0</td>\n",
       "      <td>16287</td>\n",
       "      <td>2</td>\n",
       "      <td>24</td>\n",
       "      <td>2015</td>\n",
       "    </tr>\n",
       "    <tr>\n",
       "      <th>467892</th>\n",
       "      <td>8</td>\n",
       "      <td>1.0</td>\n",
       "      <td>5274</td>\n",
       "      <td>9</td>\n",
       "      <td>3</td>\n",
       "      <td>2013</td>\n",
       "    </tr>\n",
       "    <tr>\n",
       "      <th>1236354</th>\n",
       "      <td>23</td>\n",
       "      <td>1.0</td>\n",
       "      <td>20776</td>\n",
       "      <td>12</td>\n",
       "      <td>43</td>\n",
       "      <td>2014</td>\n",
       "    </tr>\n",
       "  </tbody>\n",
       "</table>\n",
       "</div>"
      ],
      "text/plain": [
       "         date_block_num  item_cnt_month  item_id  month  shop_id  year\n",
       "975408               18             1.0    20231      7        2  2014\n",
       "735008               12             2.0     2017      1       55  2014\n",
       "1313647              25             1.0    16287      2       24  2015\n",
       "467892                8             1.0     5274      9        3  2013\n",
       "1236354              23             1.0    20776     12       43  2014"
      ]
     },
     "execution_count": 186,
     "metadata": {},
     "output_type": "execute_result"
    }
   ],
   "source": [
    "df.sample(n=5)"
   ]
  },
  {
   "cell_type": "code",
   "execution_count": 187,
   "metadata": {},
   "outputs": [
    {
     "data": {
      "text/html": [
       "<div>\n",
       "<style scoped>\n",
       "    .dataframe tbody tr th:only-of-type {\n",
       "        vertical-align: middle;\n",
       "    }\n",
       "\n",
       "    .dataframe tbody tr th {\n",
       "        vertical-align: top;\n",
       "    }\n",
       "\n",
       "    .dataframe thead th {\n",
       "        text-align: right;\n",
       "    }\n",
       "</style>\n",
       "<table border=\"1\" class=\"dataframe\">\n",
       "  <thead>\n",
       "    <tr style=\"text-align: right;\">\n",
       "      <th></th>\n",
       "      <th>ID</th>\n",
       "      <th>shop_id</th>\n",
       "      <th>item_id</th>\n",
       "      <th>item_category_id</th>\n",
       "      <th>date</th>\n",
       "      <th>date_block_num</th>\n",
       "      <th>year</th>\n",
       "      <th>month</th>\n",
       "      <th>tas</th>\n",
       "    </tr>\n",
       "  </thead>\n",
       "  <tbody>\n",
       "    <tr>\n",
       "      <th>128564</th>\n",
       "      <td>128564</td>\n",
       "      <td>47</td>\n",
       "      <td>13741</td>\n",
       "      <td>19</td>\n",
       "      <td>11.01.2015</td>\n",
       "      <td>34</td>\n",
       "      <td>2015</td>\n",
       "      <td>11</td>\n",
       "      <td>-16.051</td>\n",
       "    </tr>\n",
       "    <tr>\n",
       "      <th>124386</th>\n",
       "      <td>124386</td>\n",
       "      <td>52</td>\n",
       "      <td>17662</td>\n",
       "      <td>69</td>\n",
       "      <td>11.01.2015</td>\n",
       "      <td>34</td>\n",
       "      <td>2015</td>\n",
       "      <td>11</td>\n",
       "      <td>-16.051</td>\n",
       "    </tr>\n",
       "    <tr>\n",
       "      <th>114716</th>\n",
       "      <td>114716</td>\n",
       "      <td>49</td>\n",
       "      <td>4318</td>\n",
       "      <td>58</td>\n",
       "      <td>11.01.2015</td>\n",
       "      <td>34</td>\n",
       "      <td>2015</td>\n",
       "      <td>11</td>\n",
       "      <td>-16.051</td>\n",
       "    </tr>\n",
       "    <tr>\n",
       "      <th>162687</th>\n",
       "      <td>162687</td>\n",
       "      <td>56</td>\n",
       "      <td>1493</td>\n",
       "      <td>31</td>\n",
       "      <td>11.01.2015</td>\n",
       "      <td>34</td>\n",
       "      <td>2015</td>\n",
       "      <td>11</td>\n",
       "      <td>-16.051</td>\n",
       "    </tr>\n",
       "    <tr>\n",
       "      <th>93548</th>\n",
       "      <td>93548</td>\n",
       "      <td>14</td>\n",
       "      <td>12701</td>\n",
       "      <td>40</td>\n",
       "      <td>11.01.2015</td>\n",
       "      <td>34</td>\n",
       "      <td>2015</td>\n",
       "      <td>11</td>\n",
       "      <td>-16.051</td>\n",
       "    </tr>\n",
       "  </tbody>\n",
       "</table>\n",
       "</div>"
      ],
      "text/plain": [
       "            ID  shop_id  item_id  item_category_id        date  \\\n",
       "128564  128564       47    13741                19  11.01.2015   \n",
       "124386  124386       52    17662                69  11.01.2015   \n",
       "114716  114716       49     4318                58  11.01.2015   \n",
       "162687  162687       56     1493                31  11.01.2015   \n",
       "93548    93548       14    12701                40  11.01.2015   \n",
       "\n",
       "        date_block_num  year  month     tas  \n",
       "128564              34  2015     11 -16.051  \n",
       "124386              34  2015     11 -16.051  \n",
       "114716              34  2015     11 -16.051  \n",
       "162687              34  2015     11 -16.051  \n",
       "93548               34  2015     11 -16.051  "
      ]
     },
     "execution_count": 187,
     "metadata": {},
     "output_type": "execute_result"
    }
   ],
   "source": [
    "test.sample(n=5)"
   ]
  },
  {
   "cell_type": "code",
   "execution_count": 188,
   "metadata": {},
   "outputs": [],
   "source": [
    "# Set the train dataframe\n",
    "train = df\n",
    "train = train.merge(items, on=\"item_id\", how=\"left\").drop(columns=\"item_name\")\n",
    "train = train.merge(weather, on=[\"year\", \"month\"], how=\"left\")"
   ]
  },
  {
   "cell_type": "code",
   "execution_count": 189,
   "metadata": {},
   "outputs": [],
   "source": [
    "train.to_feather(os.path.join(derived_data_dir, \"train.df\"))"
   ]
  },
  {
   "cell_type": "code",
   "execution_count": 15,
   "metadata": {},
   "outputs": [],
   "source": [
    "train = pd.read_feather(os.path.join(derived_data_dir, \"train.df\"))"
   ]
  },
  {
   "cell_type": "markdown",
   "metadata": {},
   "source": [
    "#### Month-level visualizations"
   ]
  },
  {
   "cell_type": "code",
   "execution_count": 17,
   "metadata": {},
   "outputs": [],
   "source": [
    "shop_item_counts = {}\n",
    "for shop_id in set(train.shop_id):\n",
    "    items_in_shop = len(set(train[train.shop_id == shop_id].item_id))\n",
    "    shop_item_counts[shop_id] = items_in_shop"
   ]
  },
  {
   "cell_type": "code",
   "execution_count": 18,
   "metadata": {},
   "outputs": [
    {
     "data": {
      "text/plain": [
       "([15367, 14416, 13863, 12572, 12281], '...', [1404, 817, 746, 371, 258])"
      ]
     },
     "execution_count": 18,
     "metadata": {},
     "output_type": "execute_result"
    }
   ],
   "source": [
    "# shops with the largets counts... and the smallest\n",
    "sorted(shop_item_counts.values(), reverse=True)[:5], \"...\", sorted(shop_item_counts.values(), reverse=True)[-5:]"
   ]
  },
  {
   "cell_type": "markdown",
   "metadata": {},
   "source": [
    "## Data Cleaning / Feature Engineering"
   ]
  },
  {
   "cell_type": "code",
   "execution_count": null,
   "metadata": {},
   "outputs": [],
   "source": []
  },
  {
   "cell_type": "code",
   "execution_count": 16,
   "metadata": {},
   "outputs": [
    {
     "data": {
      "text/plain": [
       "(1609124, 214200)"
      ]
     },
     "execution_count": 16,
     "metadata": {},
     "output_type": "execute_result"
    }
   ],
   "source": [
    "len(train),len(test)"
   ]
  },
  {
   "cell_type": "code",
   "execution_count": 20,
   "metadata": {},
   "outputs": [
    {
     "data": {
      "text/html": [
       "<div>\n",
       "<style scoped>\n",
       "    .dataframe tbody tr th:only-of-type {\n",
       "        vertical-align: middle;\n",
       "    }\n",
       "\n",
       "    .dataframe tbody tr th {\n",
       "        vertical-align: top;\n",
       "    }\n",
       "\n",
       "    .dataframe thead th {\n",
       "        text-align: right;\n",
       "    }\n",
       "</style>\n",
       "<table border=\"1\" class=\"dataframe\">\n",
       "  <thead>\n",
       "    <tr style=\"text-align: right;\">\n",
       "      <th></th>\n",
       "      <th>date_block_num</th>\n",
       "      <th>item_cnt_month</th>\n",
       "      <th>item_id</th>\n",
       "      <th>month</th>\n",
       "      <th>shop_id</th>\n",
       "      <th>year</th>\n",
       "      <th>item_category_id</th>\n",
       "      <th>tas</th>\n",
       "    </tr>\n",
       "  </thead>\n",
       "  <tbody>\n",
       "    <tr>\n",
       "      <th>0</th>\n",
       "      <td>0</td>\n",
       "      <td>6.0</td>\n",
       "      <td>32</td>\n",
       "      <td>1</td>\n",
       "      <td>0</td>\n",
       "      <td>2013</td>\n",
       "      <td>40</td>\n",
       "      <td>-26.332</td>\n",
       "    </tr>\n",
       "    <tr>\n",
       "      <th>1</th>\n",
       "      <td>0</td>\n",
       "      <td>3.0</td>\n",
       "      <td>33</td>\n",
       "      <td>1</td>\n",
       "      <td>0</td>\n",
       "      <td>2013</td>\n",
       "      <td>37</td>\n",
       "      <td>-26.332</td>\n",
       "    </tr>\n",
       "    <tr>\n",
       "      <th>2</th>\n",
       "      <td>0</td>\n",
       "      <td>1.0</td>\n",
       "      <td>35</td>\n",
       "      <td>1</td>\n",
       "      <td>0</td>\n",
       "      <td>2013</td>\n",
       "      <td>40</td>\n",
       "      <td>-26.332</td>\n",
       "    </tr>\n",
       "    <tr>\n",
       "      <th>3</th>\n",
       "      <td>0</td>\n",
       "      <td>1.0</td>\n",
       "      <td>43</td>\n",
       "      <td>1</td>\n",
       "      <td>0</td>\n",
       "      <td>2013</td>\n",
       "      <td>40</td>\n",
       "      <td>-26.332</td>\n",
       "    </tr>\n",
       "    <tr>\n",
       "      <th>4</th>\n",
       "      <td>0</td>\n",
       "      <td>2.0</td>\n",
       "      <td>51</td>\n",
       "      <td>1</td>\n",
       "      <td>0</td>\n",
       "      <td>2013</td>\n",
       "      <td>57</td>\n",
       "      <td>-26.332</td>\n",
       "    </tr>\n",
       "  </tbody>\n",
       "</table>\n",
       "</div>"
      ],
      "text/plain": [
       "   date_block_num  item_cnt_month  item_id  month  shop_id  year  \\\n",
       "0               0             6.0       32      1        0  2013   \n",
       "1               0             3.0       33      1        0  2013   \n",
       "2               0             1.0       35      1        0  2013   \n",
       "3               0             1.0       43      1        0  2013   \n",
       "4               0             2.0       51      1        0  2013   \n",
       "\n",
       "   item_category_id     tas  \n",
       "0                40 -26.332  \n",
       "1                37 -26.332  \n",
       "2                40 -26.332  \n",
       "3                40 -26.332  \n",
       "4                57 -26.332  "
      ]
     },
     "execution_count": 20,
     "metadata": {},
     "output_type": "execute_result"
    }
   ],
   "source": [
    "train.head()"
   ]
  },
  {
   "cell_type": "code",
   "execution_count": 21,
   "metadata": {},
   "outputs": [
    {
     "data": {
      "text/html": [
       "<div>\n",
       "<style scoped>\n",
       "    .dataframe tbody tr th:only-of-type {\n",
       "        vertical-align: middle;\n",
       "    }\n",
       "\n",
       "    .dataframe tbody tr th {\n",
       "        vertical-align: top;\n",
       "    }\n",
       "\n",
       "    .dataframe thead th {\n",
       "        text-align: right;\n",
       "    }\n",
       "</style>\n",
       "<table border=\"1\" class=\"dataframe\">\n",
       "  <thead>\n",
       "    <tr style=\"text-align: right;\">\n",
       "      <th></th>\n",
       "      <th>ID</th>\n",
       "      <th>shop_id</th>\n",
       "      <th>item_id</th>\n",
       "      <th>item_category_id</th>\n",
       "      <th>date_block_num</th>\n",
       "      <th>year</th>\n",
       "      <th>month</th>\n",
       "      <th>tas</th>\n",
       "    </tr>\n",
       "  </thead>\n",
       "  <tbody>\n",
       "    <tr>\n",
       "      <th>0</th>\n",
       "      <td>0</td>\n",
       "      <td>5</td>\n",
       "      <td>5037</td>\n",
       "      <td>19</td>\n",
       "      <td>34</td>\n",
       "      <td>2015</td>\n",
       "      <td>11</td>\n",
       "      <td>-16.051</td>\n",
       "    </tr>\n",
       "    <tr>\n",
       "      <th>1</th>\n",
       "      <td>1</td>\n",
       "      <td>5</td>\n",
       "      <td>5320</td>\n",
       "      <td>55</td>\n",
       "      <td>34</td>\n",
       "      <td>2015</td>\n",
       "      <td>11</td>\n",
       "      <td>-16.051</td>\n",
       "    </tr>\n",
       "    <tr>\n",
       "      <th>2</th>\n",
       "      <td>2</td>\n",
       "      <td>5</td>\n",
       "      <td>5233</td>\n",
       "      <td>19</td>\n",
       "      <td>34</td>\n",
       "      <td>2015</td>\n",
       "      <td>11</td>\n",
       "      <td>-16.051</td>\n",
       "    </tr>\n",
       "    <tr>\n",
       "      <th>3</th>\n",
       "      <td>3</td>\n",
       "      <td>5</td>\n",
       "      <td>5232</td>\n",
       "      <td>23</td>\n",
       "      <td>34</td>\n",
       "      <td>2015</td>\n",
       "      <td>11</td>\n",
       "      <td>-16.051</td>\n",
       "    </tr>\n",
       "    <tr>\n",
       "      <th>4</th>\n",
       "      <td>4</td>\n",
       "      <td>5</td>\n",
       "      <td>5268</td>\n",
       "      <td>20</td>\n",
       "      <td>34</td>\n",
       "      <td>2015</td>\n",
       "      <td>11</td>\n",
       "      <td>-16.051</td>\n",
       "    </tr>\n",
       "  </tbody>\n",
       "</table>\n",
       "</div>"
      ],
      "text/plain": [
       "   ID  shop_id  item_id  item_category_id  date_block_num  year  month     tas\n",
       "0   0        5     5037                19              34  2015     11 -16.051\n",
       "1   1        5     5320                55              34  2015     11 -16.051\n",
       "2   2        5     5233                19              34  2015     11 -16.051\n",
       "3   3        5     5232                23              34  2015     11 -16.051\n",
       "4   4        5     5268                20              34  2015     11 -16.051"
      ]
     },
     "execution_count": 21,
     "metadata": {},
     "output_type": "execute_result"
    }
   ],
   "source": [
    "test.drop(columns=[\"date\"], inplace=True)\n",
    "test.head()"
   ]
  },
  {
   "cell_type": "code",
   "execution_count": null,
   "metadata": {},
   "outputs": [],
   "source": []
  },
  {
   "cell_type": "code",
   "execution_count": 17,
   "metadata": {},
   "outputs": [],
   "source": [
    "cat_vars = [\"year\", \"month\", \"item_category_id\", \"item_id\", \"shop_id\"]\n",
    "contin_vars = [\"tas\"]"
   ]
  },
  {
   "cell_type": "code",
   "execution_count": 18,
   "metadata": {},
   "outputs": [],
   "source": [
    "for v in cat_vars: \n",
    "    train[v] = train[v].astype('category').cat.as_ordered()"
   ]
  },
  {
   "cell_type": "code",
   "execution_count": 25,
   "metadata": {},
   "outputs": [
    {
     "data": {
      "text/plain": [
       "date_block_num         int64\n",
       "item_cnt_month       float64\n",
       "item_id             category\n",
       "month               category\n",
       "shop_id             category\n",
       "year                category\n",
       "item_category_id    category\n",
       "tas                  float64\n",
       "dtype: object"
      ]
     },
     "execution_count": 25,
     "metadata": {},
     "output_type": "execute_result"
    }
   ],
   "source": [
    "train.dtypes"
   ]
  },
  {
   "cell_type": "code",
   "execution_count": 29,
   "metadata": {},
   "outputs": [
    {
     "name": "stdout",
     "output_type": "stream",
     "text": [
      "ID                     int64\n",
      "shop_id             category\n",
      "item_id             category\n",
      "item_category_id    category\n",
      "date                  object\n",
      "date_block_num         int64\n",
      "year                category\n",
      "month               category\n",
      "tas                  float64\n",
      "item_cnt_month         int64\n",
      "dtype: object\n",
      "\n",
      "\n",
      "Applying Cats....\n",
      "\n",
      "\n",
      "ID                     int64\n",
      "shop_id             category\n",
      "item_id             category\n",
      "item_category_id    category\n",
      "date                  object\n",
      "date_block_num         int64\n",
      "year                category\n",
      "month               category\n",
      "tas                  float64\n",
      "item_cnt_month         int64\n",
      "dtype: object\n"
     ]
    }
   ],
   "source": [
    "print(test.dtypes)\n",
    "print(\"\\n\\nApplying Cats....\\n\\n\")\n",
    "apply_cats(test, train)\n",
    "print(test.dtypes)"
   ]
  },
  {
   "cell_type": "code",
   "execution_count": 32,
   "metadata": {},
   "outputs": [],
   "source": [
    "for v in contin_vars:\n",
    "    train[v] = train[v].fillna(0).astype('float32')\n",
    "    test[v] = test[v].fillna(0).astype('float32')"
   ]
  },
  {
   "cell_type": "code",
   "execution_count": 48,
   "metadata": {},
   "outputs": [
    {
     "data": {
      "text/plain": [
       "item_id               int16\n",
       "month                  int8\n",
       "shop_id                int8\n",
       "year                   int8\n",
       "item_category_id       int8\n",
       "tas                 float64\n",
       "dtype: object"
      ]
     },
     "execution_count": 48,
     "metadata": {},
     "output_type": "execute_result"
    }
   ],
   "source": [
    "df, y, nas, mapper = proc_df(train, 'item_cnt_month', do_scale=True, skip_flds=['date_block_num'])\n",
    "df.dtypes"
   ]
  },
  {
   "cell_type": "code",
   "execution_count": 34,
   "metadata": {},
   "outputs": [
    {
     "data": {
      "text/plain": [
       "(2253.0, -22.0)"
      ]
     },
     "execution_count": 34,
     "metadata": {},
     "output_type": "execute_result"
    }
   ],
   "source": [
    "max(y), min(y)"
   ]
  },
  {
   "cell_type": "code",
   "execution_count": 43,
   "metadata": {},
   "outputs": [
    {
     "data": {
      "text/plain": [
       "(100.0, 0.0)"
      ]
     },
     "execution_count": 43,
     "metadata": {},
     "output_type": "execute_result"
    }
   ],
   "source": [
    "# trim the range of the response before training\n",
    "# which was suggested by this Kaggle kernel: https://www.kaggle.com/dlarionov/feature-engineering-xgboost\n",
    "y = np.array([min(max(val, 0), 100) for val in y], dtype='float32')\n",
    "max(y), min(y)"
   ]
  },
  {
   "cell_type": "code",
   "execution_count": 44,
   "metadata": {},
   "outputs": [
    {
     "data": {
      "text/plain": [
       "shop_id                int8\n",
       "item_id               int16\n",
       "item_category_id       int8\n",
       "year                   int8\n",
       "month                  int8\n",
       "tas                 float64\n",
       "dtype: object"
      ]
     },
     "execution_count": 44,
     "metadata": {},
     "output_type": "execute_result"
    }
   ],
   "source": [
    "test[\"item_cnt_month\"] = -1\n",
    "test_df, _, nas, mapper = proc_df(test, 'item_cnt_month', do_scale=True, skip_flds=['ID', 'date', 'date_block_num'],\n",
    "                                  mapper=mapper, na_dict=nas)\n",
    "test_df.dtypes"
   ]
  },
  {
   "cell_type": "code",
   "execution_count": null,
   "metadata": {},
   "outputs": [],
   "source": []
  },
  {
   "cell_type": "code",
   "execution_count": 45,
   "metadata": {},
   "outputs": [],
   "source": [
    "val_idx = train.date_block_num > 30"
   ]
  },
  {
   "cell_type": "code",
   "execution_count": 50,
   "metadata": {},
   "outputs": [],
   "source": [
    "md = ColumnarModelData.from_data_frame(derived_data_dir, val_idx, df, y.astype(np.float32), cat_flds=cat_vars, bs=128,\n",
    "                                       test_df=test_df)"
   ]
  },
  {
   "cell_type": "code",
   "execution_count": 51,
   "metadata": {},
   "outputs": [
    {
     "data": {
      "text/html": [
       "<div>\n",
       "<style scoped>\n",
       "    .dataframe tbody tr th:only-of-type {\n",
       "        vertical-align: middle;\n",
       "    }\n",
       "\n",
       "    .dataframe tbody tr th {\n",
       "        vertical-align: top;\n",
       "    }\n",
       "\n",
       "    .dataframe thead th {\n",
       "        text-align: right;\n",
       "    }\n",
       "</style>\n",
       "<table border=\"1\" class=\"dataframe\">\n",
       "  <thead>\n",
       "    <tr style=\"text-align: right;\">\n",
       "      <th></th>\n",
       "      <th>item_id</th>\n",
       "      <th>month</th>\n",
       "      <th>shop_id</th>\n",
       "      <th>year</th>\n",
       "      <th>item_category_id</th>\n",
       "      <th>tas</th>\n",
       "    </tr>\n",
       "  </thead>\n",
       "  <tbody>\n",
       "    <tr>\n",
       "      <th>0</th>\n",
       "      <td>33</td>\n",
       "      <td>1</td>\n",
       "      <td>1</td>\n",
       "      <td>1</td>\n",
       "      <td>41</td>\n",
       "      <td>-1.467143</td>\n",
       "    </tr>\n",
       "    <tr>\n",
       "      <th>1</th>\n",
       "      <td>34</td>\n",
       "      <td>1</td>\n",
       "      <td>1</td>\n",
       "      <td>1</td>\n",
       "      <td>38</td>\n",
       "      <td>-1.467143</td>\n",
       "    </tr>\n",
       "    <tr>\n",
       "      <th>2</th>\n",
       "      <td>36</td>\n",
       "      <td>1</td>\n",
       "      <td>1</td>\n",
       "      <td>1</td>\n",
       "      <td>41</td>\n",
       "      <td>-1.467143</td>\n",
       "    </tr>\n",
       "    <tr>\n",
       "      <th>3</th>\n",
       "      <td>44</td>\n",
       "      <td>1</td>\n",
       "      <td>1</td>\n",
       "      <td>1</td>\n",
       "      <td>41</td>\n",
       "      <td>-1.467143</td>\n",
       "    </tr>\n",
       "    <tr>\n",
       "      <th>4</th>\n",
       "      <td>52</td>\n",
       "      <td>1</td>\n",
       "      <td>1</td>\n",
       "      <td>1</td>\n",
       "      <td>58</td>\n",
       "      <td>-1.467143</td>\n",
       "    </tr>\n",
       "  </tbody>\n",
       "</table>\n",
       "</div>"
      ],
      "text/plain": [
       "   item_id  month  shop_id  year  item_category_id       tas\n",
       "0       33      1        1     1                41 -1.467143\n",
       "1       34      1        1     1                38 -1.467143\n",
       "2       36      1        1     1                41 -1.467143\n",
       "3       44      1        1     1                41 -1.467143\n",
       "4       52      1        1     1                58 -1.467143"
      ]
     },
     "execution_count": 51,
     "metadata": {},
     "output_type": "execute_result"
    }
   ],
   "source": [
    "df.head()"
   ]
  },
  {
   "cell_type": "code",
   "execution_count": 52,
   "metadata": {},
   "outputs": [
    {
     "data": {
      "text/plain": [
       "item_id               int16\n",
       "month                  int8\n",
       "shop_id                int8\n",
       "year                   int8\n",
       "item_category_id       int8\n",
       "tas                 float64\n",
       "dtype: object"
      ]
     },
     "execution_count": 52,
     "metadata": {},
     "output_type": "execute_result"
    }
   ],
   "source": [
    "df.dtypes"
   ]
  },
  {
   "cell_type": "code",
   "execution_count": 53,
   "metadata": {},
   "outputs": [
    {
     "data": {
      "text/plain": [
       "[('year', 4),\n",
       " ('month', 13),\n",
       " ('item_category_id', 85),\n",
       " ('item_id', 21808),\n",
       " ('shop_id', 61)]"
      ]
     },
     "execution_count": 53,
     "metadata": {},
     "output_type": "execute_result"
    }
   ],
   "source": [
    "cat_sz = [(c, len(train[c].cat.categories)+1) for c in cat_vars]\n",
    "cat_sz"
   ]
  },
  {
   "cell_type": "code",
   "execution_count": 54,
   "metadata": {},
   "outputs": [
    {
     "data": {
      "text/plain": [
       "[(4, 2), (13, 7), (85, 43), (21808, 50), (61, 31)]"
      ]
     },
     "execution_count": 54,
     "metadata": {},
     "output_type": "execute_result"
    }
   ],
   "source": [
    "emb_szs = [(card, min(50, (card+1)//2)) for _,card in cat_sz]\n",
    "emb_szs"
   ]
  },
  {
   "cell_type": "code",
   "execution_count": 55,
   "metadata": {},
   "outputs": [
    {
     "data": {
      "text/plain": [
       "(0, 2703.6)"
      ]
     },
     "execution_count": 55,
     "metadata": {},
     "output_type": "execute_result"
    }
   ],
   "source": [
    "def inv_y(a): return np.exp(a)\n",
    "\n",
    "def exp_rmspe(y_pred, targ):\n",
    "    targ = inv_y(targ)\n",
    "    pct_var = (targ - inv_y(y_pred))/targ\n",
    "    return math.sqrt((pct_var**2).mean())\n",
    "\n",
    "def rmse(y_pred, targ):\n",
    "    return math.sqrt(( (targ - y_pred)**2).mean())\n",
    "\n",
    "max_y = np.max(y)\n",
    "y_range = (0, max_y*1.2)\n",
    "y_range"
   ]
  },
  {
   "cell_type": "code",
   "execution_count": 56,
   "metadata": {},
   "outputs": [
    {
     "data": {
      "text/plain": [
       "OrderedDict([('Embedding-1',\n",
       "              OrderedDict([('input_shape', [-1]),\n",
       "                           ('output_shape', [-1, 2]),\n",
       "                           ('trainable', True),\n",
       "                           ('nb_params', 8)])),\n",
       "             ('Embedding-2',\n",
       "              OrderedDict([('input_shape', [-1]),\n",
       "                           ('output_shape', [-1, 7]),\n",
       "                           ('trainable', True),\n",
       "                           ('nb_params', 91)])),\n",
       "             ('Embedding-3',\n",
       "              OrderedDict([('input_shape', [-1]),\n",
       "                           ('output_shape', [-1, 43]),\n",
       "                           ('trainable', True),\n",
       "                           ('nb_params', 3655)])),\n",
       "             ('Embedding-4',\n",
       "              OrderedDict([('input_shape', [-1]),\n",
       "                           ('output_shape', [-1, 50]),\n",
       "                           ('trainable', True),\n",
       "                           ('nb_params', 1090400)])),\n",
       "             ('Embedding-5',\n",
       "              OrderedDict([('input_shape', [-1]),\n",
       "                           ('output_shape', [-1, 31]),\n",
       "                           ('trainable', True),\n",
       "                           ('nb_params', 1891)])),\n",
       "             ('Dropout-6',\n",
       "              OrderedDict([('input_shape', [-1, 133]),\n",
       "                           ('output_shape', [-1, 133]),\n",
       "                           ('nb_params', 0)])),\n",
       "             ('BatchNorm1d-7',\n",
       "              OrderedDict([('input_shape', [-1, 1]),\n",
       "                           ('output_shape', [-1, 1]),\n",
       "                           ('trainable', True),\n",
       "                           ('nb_params', 2)])),\n",
       "             ('Linear-8',\n",
       "              OrderedDict([('input_shape', [-1, 134]),\n",
       "                           ('output_shape', [-1, 1000]),\n",
       "                           ('trainable', True),\n",
       "                           ('nb_params', 135000)])),\n",
       "             ('Dropout-9',\n",
       "              OrderedDict([('input_shape', [-1, 1000]),\n",
       "                           ('output_shape', [-1, 1000]),\n",
       "                           ('nb_params', 0)])),\n",
       "             ('Linear-10',\n",
       "              OrderedDict([('input_shape', [-1, 1000]),\n",
       "                           ('output_shape', [-1, 500]),\n",
       "                           ('trainable', True),\n",
       "                           ('nb_params', 500500)])),\n",
       "             ('Dropout-11',\n",
       "              OrderedDict([('input_shape', [-1, 500]),\n",
       "                           ('output_shape', [-1, 500]),\n",
       "                           ('nb_params', 0)])),\n",
       "             ('Linear-12',\n",
       "              OrderedDict([('input_shape', [-1, 500]),\n",
       "                           ('output_shape', [-1, 1]),\n",
       "                           ('trainable', True),\n",
       "                           ('nb_params', 501)]))])"
      ]
     },
     "execution_count": 56,
     "metadata": {},
     "output_type": "execute_result"
    }
   ],
   "source": [
    "# md.get_learner(emb_szs, \n",
    "#   n_cont i.e. number of continuous variables, \n",
    "#   emb_drop i.e. droput percentage for the embedding matrix, \n",
    "#   out_sz, # how many outputs we want to create (in this case, sales is a single number)\n",
    "#   szs, # [number of activations in the first linear layer, number of activations in the second linear layer]\n",
    "#   drops, # [dropout in the first linear layer, dropout in the second linear layer]\n",
    "#   y_range=None, use_bn=False)\n",
    "\n",
    "m = md.get_learner(emb_szs, len(df.columns)-len(cat_vars),\n",
    "                   0.04, 1, [1000,500], [0.001,0.01], y_range=y_range)\n",
    "m.summary()"
   ]
  },
  {
   "cell_type": "code",
   "execution_count": 57,
   "metadata": {},
   "outputs": [
    {
     "data": {
      "application/vnd.jupyter.widget-view+json": {
       "model_id": "93d5c4abc2b04db9b4aa4a5afcadb857",
       "version_major": 2,
       "version_minor": 0
      },
      "text/plain": [
       "HBox(children=(IntProgress(value=0, description='Epoch', max=1), HTML(value='')))"
      ]
     },
     "metadata": {},
     "output_type": "display_data"
    },
    {
     "name": "stdout",
     "output_type": "stream",
     "text": [
      " 30%|███       | 3591/11832 [00:18<00:43, 189.13it/s, loss=124]     "
     ]
    }
   ],
   "source": [
    "lr = 1e-3\n",
    "m.lr_find()"
   ]
  },
  {
   "cell_type": "code",
   "execution_count": 58,
   "metadata": {},
   "outputs": [
    {
     "data": {
      "image/png": "[encoded data removed]",
      "text/plain": [
       "<Figure size 432x288 with 1 Axes>"
      ]
     },
     "metadata": {},
     "output_type": "display_data"
    }
   ],
   "source": [
    "m.sched.plot()"
   ]
  },
  {
   "cell_type": "code",
   "execution_count": 59,
   "metadata": {},
   "outputs": [
    {
     "data": {
      "image/png": "[encoded data removed]",
      "text/plain": [
       "<Figure size 432x288 with 1 Axes>"
      ]
     },
     "metadata": {},
     "output_type": "display_data"
    }
   ],
   "source": [
    "m.sched.plot_loss()"
   ]
  },
  {
   "cell_type": "code",
   "execution_count": 60,
   "metadata": {},
   "outputs": [
    {
     "data": {
      "application/vnd.jupyter.widget-view+json": {
       "model_id": "0cf5154b34ad409f8b76fc2a2d842e37",
       "version_major": 2,
       "version_minor": 0
      },
      "text/plain": [
       "HBox(children=(IntProgress(value=0, description='Epoch', max=1), HTML(value='')))"
      ]
     },
     "metadata": {},
     "output_type": "display_data"
    },
    {
     "name": "stdout",
     "output_type": "stream",
     "text": [
      " 11%|█         | 1311/11832 [00:06<00:56, 187.73it/s, loss=1.98e+03]\n",
      " 11%|█▏        | 1351/11832 [00:07<00:55, 187.61it/s, loss=1.8e+03] "
     ]
    },
    {
     "name": "stderr",
     "output_type": "stream",
     "text": [
      "Exception in thread Thread-4:\n",
      "Traceback (most recent call last):\n",
      "  File \"/home/srivbane/levon003/anaconda3/envs/fastai/lib/python3.6/threading.py\", line 916, in _bootstrap_inner\n",
      "    self.run()\n",
      "  File \"/panfs/roc/groups/3/srivbane/levon003/anaconda3/lib/python3.6/site-packages/tqdm/_tqdm.py\", line 144, in run\n",
      "    for instance in self.tqdm_cls._instances:\n",
      "  File \"/home/srivbane/levon003/anaconda3/envs/fastai/lib/python3.6/_weakrefset.py\", line 60, in __iter__\n",
      "    for itemref in self.data:\n",
      "RuntimeError: Set changed size during iteration\n",
      "\n"
     ]
    },
    {
     "name": "stdout",
     "output_type": "stream",
     "text": [
      " 31%|███       | 3611/11832 [00:19<00:43, 189.58it/s, loss=97.5]    \n"
     ]
    },
    {
     "data": {
      "image/png": "[encoded data removed]",
      "text/plain": [
       "<Figure size 432x288 with 1 Axes>"
      ]
     },
     "metadata": {},
     "output_type": "display_data"
    }
   ],
   "source": [
    "m.lr_find(start_lr=1e-5, end_lr=1)\n",
    "m.sched.plot(n_skip=0, n_skip_end=0)"
   ]
  },
  {
   "cell_type": "code",
   "execution_count": 61,
   "metadata": {
    "scrolled": false
   },
   "outputs": [
    {
     "data": {
      "text/plain": [
       "MixedInputModel(\n",
       "  (embs): ModuleList(\n",
       "    (0): Embedding(4, 2)\n",
       "    (1): Embedding(13, 7)\n",
       "    (2): Embedding(85, 43)\n",
       "    (3): Embedding(21808, 50)\n",
       "    (4): Embedding(61, 31)\n",
       "  )\n",
       "  (lins): ModuleList(\n",
       "    (0): Linear(in_features=134, out_features=1000, bias=True)\n",
       "    (1): Linear(in_features=1000, out_features=500, bias=True)\n",
       "  )\n",
       "  (bns): ModuleList(\n",
       "    (0): BatchNorm1d(1000, eps=1e-05, momentum=0.1, affine=True)\n",
       "    (1): BatchNorm1d(500, eps=1e-05, momentum=0.1, affine=True)\n",
       "  )\n",
       "  (outp): Linear(in_features=500, out_features=1, bias=True)\n",
       "  (emb_drop): Dropout(p=0.04)\n",
       "  (drops): ModuleList(\n",
       "    (0): Dropout(p=0.001)\n",
       "    (1): Dropout(p=0.01)\n",
       "  )\n",
       "  (bn): BatchNorm1d(1, eps=1e-05, momentum=0.1, affine=True)\n",
       ")"
      ]
     },
     "execution_count": 61,
     "metadata": {},
     "output_type": "execute_result"
    }
   ],
   "source": [
    "m"
   ]
  },
  {
   "cell_type": "code",
   "execution_count": 62,
   "metadata": {},
   "outputs": [
    {
     "name": "stdout",
     "output_type": "stream",
     "text": [
      "0.000010\n"
     ]
    }
   ],
   "source": [
    "lr = 1e-5\n",
    "print(\"%.6f\" % lr)"
   ]
  },
  {
   "cell_type": "code",
   "execution_count": 63,
   "metadata": {},
   "outputs": [
    {
     "data": {
      "application/vnd.jupyter.widget-view+json": {
       "model_id": "99ee7102cc0740c380c04721752bbc47",
       "version_major": 2,
       "version_minor": 0
      },
      "text/plain": [
       "HBox(children=(IntProgress(value=0, description='Epoch', max=3), HTML(value='')))"
      ]
     },
     "metadata": {},
     "output_type": "display_data"
    },
    {
     "name": "stdout",
     "output_type": "stream",
     "text": [
      "epoch      trn_loss   val_loss   rmse                               \n",
      "    0      71.405063  191.38889  6.100479  \n",
      "    1      42.834011  172.800136 5.00347                         \n",
      "    2      23.545643  167.104613 4.729942                        \n",
      "\n"
     ]
    },
    {
     "data": {
      "text/plain": [
       "[array([167.10461]), 4.729941896090493]"
      ]
     },
     "execution_count": 63,
     "metadata": {},
     "output_type": "execute_result"
    }
   ],
   "source": [
    "m.fit(lr, 3, metrics=[rmse])"
   ]
  },
  {
   "cell_type": "code",
   "execution_count": 64,
   "metadata": {},
   "outputs": [
    {
     "data": {
      "application/vnd.jupyter.widget-view+json": {
       "model_id": "35f9d12f04c44b6a9fd56d21cb48b3bf",
       "version_major": 2,
       "version_minor": 0
      },
      "text/plain": [
       "HBox(children=(IntProgress(value=0, description='Epoch', max=8), HTML(value='')))"
      ]
     },
     "metadata": {},
     "output_type": "display_data"
    },
    {
     "name": "stdout",
     "output_type": "stream",
     "text": [
      "epoch      trn_loss   val_loss   rmse                            \n",
      "    0      26.567781  162.880409 4.720098  \n",
      "    1      32.279904  161.129278 4.869701                        \n",
      "    2      45.680895  159.840035 4.752886                        \n",
      "    3      86.928587  159.884172 4.757599                        \n",
      "    4      17.453537  161.773421 5.030971                        \n",
      "    5      21.588721  162.351406 5.157657                        \n",
      "    6      27.641948  162.187337 5.161141                        \n",
      "    7      16.230912  162.236626 5.162743                        \n",
      "\n"
     ]
    },
    {
     "data": {
      "text/plain": [
       "[array([162.23663]), 5.162743226325738]"
      ]
     },
     "execution_count": 64,
     "metadata": {},
     "output_type": "execute_result"
    }
   ],
   "source": [
    "m.fit(lr, 2, metrics=[rmse], cycle_len=4)"
   ]
  },
  {
   "cell_type": "code",
   "execution_count": 65,
   "metadata": {},
   "outputs": [],
   "source": [
    "m.save('eightEpoch_1e5_model')"
   ]
  },
  {
   "cell_type": "code",
   "execution_count": null,
   "metadata": {},
   "outputs": [],
   "source": [
    "m.load('eightEpoch_1e5_model')"
   ]
  },
  {
   "cell_type": "code",
   "execution_count": 66,
   "metadata": {},
   "outputs": [],
   "source": [
    "pred_val_targs = m.predict_with_targs()"
   ]
  },
  {
   "cell_type": "code",
   "execution_count": 67,
   "metadata": {},
   "outputs": [],
   "source": [
    "pred_val = m.predict()"
   ]
  },
  {
   "cell_type": "code",
   "execution_count": 68,
   "metadata": {
    "scrolled": false
   },
   "outputs": [],
   "source": [
    "pred_test = m.predict(is_test=True)"
   ]
  },
  {
   "cell_type": "code",
   "execution_count": 69,
   "metadata": {},
   "outputs": [],
   "source": [
    "test['item_cnt_month'] = pred_test"
   ]
  },
  {
   "cell_type": "code",
   "execution_count": 70,
   "metadata": {
    "scrolled": true
   },
   "outputs": [
    {
     "name": "stdout",
     "output_type": "stream",
     "text": [
      "Finished.\n"
     ]
    }
   ],
   "source": [
    "output_filepath = os.path.join(derived_data_dir, \"fastaiModel_preds.csv\")\n",
    "with open(output_filepath, 'w') as outfile:\n",
    "    outfile.write(\"ID,item_cnt_month\\n\")\n",
    "    for i, test_id in enumerate(test.ID):\n",
    "        pred = pred_test[i]\n",
    "        outfile.write(\"%d,%.2f\\n\" % (test_id, pred))\n",
    "print(\"Finished.\")"
   ]
  },
  {
   "cell_type": "code",
   "execution_count": 77,
   "metadata": {},
   "outputs": [
    {
     "data": {
      "image/png": "[encoded data removed]",
      "text/plain": [
       "<Figure size 432x288 with 1 Axes>"
      ]
     },
     "metadata": {},
     "output_type": "display_data"
    }
   ],
   "source": [
    "bins = np.linspace(-0.1, 150, num=200)\n",
    "plt.hist(pred_val, bins=bins, alpha=0.5, log=True, label=\"Pred\")\n",
    "plt.hist(y_val, bins=bins, alpha=0.5, log=True, label=\"True\")\n",
    "plt.xlabel(\"item_cnt_month\")\n",
    "plt.ylabel(\"Count\")\n",
    "plt.legend()\n",
    "plt.show()"
   ]
  },
  {
   "cell_type": "code",
   "execution_count": 78,
   "metadata": {},
   "outputs": [
    {
     "data": {
      "text/plain": [
       "((94695,), (94695,))"
      ]
     },
     "execution_count": 78,
     "metadata": {},
     "output_type": "execute_result"
    }
   ],
   "source": [
    "pred_val[:,0].shape, y_val.shape"
   ]
  },
  {
   "cell_type": "code",
   "execution_count": 79,
   "metadata": {},
   "outputs": [
    {
     "data": {
      "text/plain": [
       "12.73721441106761"
      ]
     },
     "execution_count": 79,
     "metadata": {},
     "output_type": "execute_result"
    }
   ],
   "source": [
    "np.sqrt(np.mean((pred_val[:,0] - y_val)**2))"
   ]
  },
  {
   "cell_type": "code",
   "execution_count": null,
   "metadata": {
    "hidden": true
   },
   "outputs": [],
   "source": []
  },
  {
   "cell_type": "markdown",
   "metadata": {},
   "source": [
    "## RandomForest on Basic Formulation"
   ]
  },
  {
   "cell_type": "code",
   "execution_count": 72,
   "metadata": {},
   "outputs": [
    {
     "data": {
      "text/html": [
       "<div>\n",
       "<style scoped>\n",
       "    .dataframe tbody tr th:only-of-type {\n",
       "        vertical-align: middle;\n",
       "    }\n",
       "\n",
       "    .dataframe tbody tr th {\n",
       "        vertical-align: top;\n",
       "    }\n",
       "\n",
       "    .dataframe thead th {\n",
       "        text-align: right;\n",
       "    }\n",
       "</style>\n",
       "<table border=\"1\" class=\"dataframe\">\n",
       "  <thead>\n",
       "    <tr style=\"text-align: right;\">\n",
       "      <th></th>\n",
       "      <th>date_block_num</th>\n",
       "      <th>item_cnt_month</th>\n",
       "      <th>item_id</th>\n",
       "      <th>month</th>\n",
       "      <th>shop_id</th>\n",
       "      <th>year</th>\n",
       "      <th>item_category_id</th>\n",
       "      <th>tas</th>\n",
       "    </tr>\n",
       "  </thead>\n",
       "  <tbody>\n",
       "    <tr>\n",
       "      <th>0</th>\n",
       "      <td>0</td>\n",
       "      <td>6.0</td>\n",
       "      <td>32</td>\n",
       "      <td>1</td>\n",
       "      <td>0</td>\n",
       "      <td>2013</td>\n",
       "      <td>40</td>\n",
       "      <td>-26.332001</td>\n",
       "    </tr>\n",
       "    <tr>\n",
       "      <th>1</th>\n",
       "      <td>0</td>\n",
       "      <td>3.0</td>\n",
       "      <td>33</td>\n",
       "      <td>1</td>\n",
       "      <td>0</td>\n",
       "      <td>2013</td>\n",
       "      <td>37</td>\n",
       "      <td>-26.332001</td>\n",
       "    </tr>\n",
       "    <tr>\n",
       "      <th>2</th>\n",
       "      <td>0</td>\n",
       "      <td>1.0</td>\n",
       "      <td>35</td>\n",
       "      <td>1</td>\n",
       "      <td>0</td>\n",
       "      <td>2013</td>\n",
       "      <td>40</td>\n",
       "      <td>-26.332001</td>\n",
       "    </tr>\n",
       "    <tr>\n",
       "      <th>3</th>\n",
       "      <td>0</td>\n",
       "      <td>1.0</td>\n",
       "      <td>43</td>\n",
       "      <td>1</td>\n",
       "      <td>0</td>\n",
       "      <td>2013</td>\n",
       "      <td>40</td>\n",
       "      <td>-26.332001</td>\n",
       "    </tr>\n",
       "    <tr>\n",
       "      <th>4</th>\n",
       "      <td>0</td>\n",
       "      <td>2.0</td>\n",
       "      <td>51</td>\n",
       "      <td>1</td>\n",
       "      <td>0</td>\n",
       "      <td>2013</td>\n",
       "      <td>57</td>\n",
       "      <td>-26.332001</td>\n",
       "    </tr>\n",
       "  </tbody>\n",
       "</table>\n",
       "</div>"
      ],
      "text/plain": [
       "   date_block_num  item_cnt_month item_id month shop_id  year  \\\n",
       "0               0             6.0      32     1       0  2013   \n",
       "1               0             3.0      33     1       0  2013   \n",
       "2               0             1.0      35     1       0  2013   \n",
       "3               0             1.0      43     1       0  2013   \n",
       "4               0             2.0      51     1       0  2013   \n",
       "\n",
       "  item_category_id        tas  \n",
       "0               40 -26.332001  \n",
       "1               37 -26.332001  \n",
       "2               40 -26.332001  \n",
       "3               40 -26.332001  \n",
       "4               57 -26.332001  "
      ]
     },
     "execution_count": 72,
     "metadata": {},
     "output_type": "execute_result"
    }
   ],
   "source": [
    "train.head()"
   ]
  },
  {
   "cell_type": "code",
   "execution_count": 73,
   "metadata": {},
   "outputs": [],
   "source": [
    "feature_cols = [\"year\", \"month\", \"shop_id\", \"item_id\", \"item_category_id\"]"
   ]
  },
  {
   "cell_type": "code",
   "execution_count": 74,
   "metadata": {},
   "outputs": [
    {
     "data": {
      "text/plain": [
       "((1514429, 5), (94695, 5), (214200, 5))"
      ]
     },
     "execution_count": 74,
     "metadata": {},
     "output_type": "execute_result"
    }
   ],
   "source": [
    "X = train.loc[:, feature_cols]\n",
    "X_trn = train.loc[train.date_block_num <= 30, feature_cols]\n",
    "X_val = train.loc[train.date_block_num > 30, feature_cols]  # leave months 31, 32, 33 as validation data\n",
    "X_tst = test.loc[:, feature_cols]\n",
    "X_trn.shape, X_val.shape, X_tst.shape"
   ]
  },
  {
   "cell_type": "code",
   "execution_count": 75,
   "metadata": {},
   "outputs": [
    {
     "data": {
      "text/plain": [
       "((1514429,), (94695,))"
      ]
     },
     "execution_count": 75,
     "metadata": {},
     "output_type": "execute_result"
    }
   ],
   "source": [
    "y = train.item_cnt_month\n",
    "y_trn = train[train.date_block_num <= 30].item_cnt_month\n",
    "y_val = train[train.date_block_num > 30].item_cnt_month\n",
    "y_trn.shape, y_val.shape"
   ]
  },
  {
   "cell_type": "code",
   "execution_count": 62,
   "metadata": {},
   "outputs": [],
   "source": [
    "m = RandomForestRegressor(n_estimators=40, max_features=0.99, min_samples_leaf=2,\n",
    "                          n_jobs=-1, oob_score=True)"
   ]
  },
  {
   "cell_type": "code",
   "execution_count": 63,
   "metadata": {
    "scrolled": true
   },
   "outputs": [
    {
     "data": {
      "text/plain": [
       "RandomForestRegressor(bootstrap=True, criterion='mse', max_depth=None,\n",
       "           max_features=0.99, max_leaf_nodes=None,\n",
       "           min_impurity_decrease=0.0, min_impurity_split=None,\n",
       "           min_samples_leaf=2, min_samples_split=2,\n",
       "           min_weight_fraction_leaf=0.0, n_estimators=40, n_jobs=-1,\n",
       "           oob_score=True, random_state=None, verbose=0, warm_start=False)"
      ]
     },
     "execution_count": 63,
     "metadata": {},
     "output_type": "execute_result"
    }
   ],
   "source": [
    "m.fit(X_trn, y_trn)"
   ]
  },
  {
   "cell_type": "code",
   "execution_count": null,
   "metadata": {},
   "outputs": [],
   "source": []
  },
  {
   "cell_type": "code",
   "execution_count": 124,
   "metadata": {},
   "outputs": [
    {
     "data": {
      "text/plain": [
       "(0.8550891991600992, 0.14068042521389035, 0.6620306131618687)"
      ]
     },
     "execution_count": 124,
     "metadata": {},
     "output_type": "execute_result"
    }
   ],
   "source": [
    "y_val_pred = m.predict(X_val)\n",
    "m.score(X_trn, y_trn), m.score(X_val, y_val), m.oob_score_"
   ]
  },
  {
   "cell_type": "code",
   "execution_count": 125,
   "metadata": {},
   "outputs": [
    {
     "name": "stdout",
     "output_type": "stream",
     "text": [
      "Training RMSE\n"
     ]
    },
    {
     "data": {
      "text/plain": [
       "3.1343597256366977"
      ]
     },
     "execution_count": 125,
     "metadata": {},
     "output_type": "execute_result"
    }
   ],
   "source": [
    "print(\"Training RMSE\")\n",
    "y_trn_pred = m.predict(X_trn)\n",
    "np.sqrt(sklearn.metrics.mean_squared_error(y_trn, y_trn_pred))"
   ]
  },
  {
   "cell_type": "code",
   "execution_count": 126,
   "metadata": {},
   "outputs": [
    {
     "name": "stdout",
     "output_type": "stream",
     "text": [
      "Validation RMSE\n"
     ]
    },
    {
     "data": {
      "text/plain": [
       "12.682391812875455"
      ]
     },
     "execution_count": 126,
     "metadata": {},
     "output_type": "execute_result"
    }
   ],
   "source": [
    "print(\"Validation RMSE\")\n",
    "np.sqrt(sklearn.metrics.mean_squared_error(y_val, y_val_pred))"
   ]
  },
  {
   "cell_type": "code",
   "execution_count": 127,
   "metadata": {},
   "outputs": [
    {
     "data": {
      "image/png": "[encoded data removed]",
      "text/plain": [
       "<Figure size 432x288 with 1 Axes>"
      ]
     },
     "metadata": {},
     "output_type": "display_data"
    }
   ],
   "source": [
    "#bins = np.arange(-0.1, 10, 0.1)\n",
    "bins = np.linspace(-0.1, 200, num=200)\n",
    "plt.hist(y_val_pred, bins=bins, alpha=0.5, log=True, label=\"Pred\")\n",
    "plt.hist(y_val, bins=bins, alpha=0.5, log=True, label=\"True\")\n",
    "plt.xlabel(\"item_cnt_month\")\n",
    "plt.ylabel(\"Count\")\n",
    "plt.legend()\n",
    "plt.show()"
   ]
  },
  {
   "cell_type": "code",
   "execution_count": 122,
   "metadata": {},
   "outputs": [
    {
     "data": {
      "image/png": "[encoded data removed]",
      "text/plain": [
       "<Figure size 432x288 with 1 Axes>"
      ]
     },
     "metadata": {},
     "output_type": "display_data"
    }
   ],
   "source": [
    "errors = y_val - y_val_pred\n",
    "plt.hist(errors, bins=np.linspace(-100, 100, 100), log=True)\n",
    "plt.xlabel(\"Shop/Item Absolute Error\")\n",
    "plt.ylabel(\"Count\")\n",
    "plt.show()"
   ]
  },
  {
   "cell_type": "code",
   "execution_count": 121,
   "metadata": {},
   "outputs": [
    {
     "data": {
      "image/png": "[encoded data removed]",
      "text/plain": [
       "<Figure size 432x288 with 1 Axes>"
      ]
     },
     "metadata": {},
     "output_type": "display_data"
    }
   ],
   "source": [
    "big_errors = errors[np.abs(errors) > 100]\n",
    "plt.hist(big_errors, bins=np.linspace(-500, 2500, 50))\n",
    "plt.xlabel(\"Shop/Item Absolute Error\")\n",
    "plt.ylabel(\"Count\")\n",
    "plt.show()\n",
    "# This visualization of the major errors shows that in the worst cases we are systematically UNDERESTIMATING the true number sold... \n",
    "#But what percent of the RMSE is this?  It would seem like a small percent, or we wouldn't do that much worse than the baseline..."
   ]
  },
  {
   "cell_type": "code",
   "execution_count": null,
   "metadata": {},
   "outputs": [],
   "source": []
  },
  {
   "cell_type": "markdown",
   "metadata": {},
   "source": [
    "#### Make predictions on test data"
   ]
  },
  {
   "cell_type": "code",
   "execution_count": 142,
   "metadata": {},
   "outputs": [],
   "source": [
    "y_tst_pred = m.predict(X_tst)"
   ]
  },
  {
   "cell_type": "code",
   "execution_count": 143,
   "metadata": {},
   "outputs": [
    {
     "name": "stdout",
     "output_type": "stream",
     "text": [
      "Finished.\n"
     ]
    }
   ],
   "source": [
    "output_filepath = os.path.join(derived_data_dir, \"randForest_preds.csv\")\n",
    "with open(output_filepath, 'w') as outfile:\n",
    "    outfile.write(\"ID,item_cnt_month\\n\")\n",
    "    for i, test_id in enumerate(test.ID):\n",
    "        pred = y_tst_pred[i]\n",
    "        outfile.write(\"%d,%.2f\\n\" % (test_id, pred))\n",
    "print(\"Finished.\")"
   ]
  },
  {
   "cell_type": "code",
   "execution_count": 147,
   "metadata": {},
   "outputs": [
    {
     "data": {
      "image/png": "[encoded data removed]",
      "text/plain": [
       "<Figure size 432x288 with 1 Axes>"
      ]
     },
     "metadata": {},
     "output_type": "display_data"
    }
   ],
   "source": [
    "plt.hist(y_tst_pred, bins=np.arange(0, 5, 0.1) )\n",
    "plt.xlabel(\"Predicted item_cnt_month\")\n",
    "plt.ylabel(\"Store/Item count\")\n",
    "plt.show()"
   ]
  },
  {
   "cell_type": "markdown",
   "metadata": {},
   "source": [
    "#### Gradient Boosting Regressor"
   ]
  },
  {
   "cell_type": "code",
   "execution_count": 120,
   "metadata": {
    "scrolled": true
   },
   "outputs": [
    {
     "name": "stdout",
     "output_type": "stream",
     "text": [
      "1 8.102792276271881 13.604590571280909\n",
      "2 7.094411750847324 13.249214353790201\n",
      "3 6.789187535084146 13.129702132144626\n",
      "4 6.184064988635418 12.8668806242627\n",
      "5 5.66222516895761 12.65603598523646\n",
      "CPU times: user 40min 27s, sys: 2min 30s, total: 42min 57s\n",
      "Wall time: 4min 59s\n"
     ]
    }
   ],
   "source": [
    "%%time\n",
    "for depth in [1, 2, 3, 4, 5]:\n",
    "    md = GradientBoostingRegressor(n_estimators=100, learning_rate=0.1, max_depth=depth, random_state=0, loss='ls')\n",
    "    md.fit(X_trn, y_trn)\n",
    "    y_trn_pred = md.predict(X_trn)\n",
    "    y_val_pred = md.predict(X_val)\n",
    "    print(depth, np.sqrt(sklearn.metrics.mean_squared_error(y_trn, y_trn_pred)), np.sqrt(sklearn.metrics.mean_squared_error(y_val, y_val_pred)))"
   ]
  },
  {
   "cell_type": "code",
   "execution_count": 132,
   "metadata": {},
   "outputs": [],
   "source": [
    "# retrain on the full data\n",
    "md = GradientBoostingRegressor(n_estimators=100, learning_rate=0.1, max_depth=5, random_state=0, loss='ls')\n",
    "md.fit(X, y)\n",
    "y_tst_pred = md.predict(X_tst)"
   ]
  },
  {
   "cell_type": "code",
   "execution_count": 133,
   "metadata": {},
   "outputs": [
    {
     "name": "stdout",
     "output_type": "stream",
     "text": [
      "Finished.\n"
     ]
    }
   ],
   "source": [
    "output_filepath = os.path.join(derived_data_dir, \"gradBoosting_preds.csv\")\n",
    "with open(output_filepath, 'w') as outfile:\n",
    "    outfile.write(\"ID,item_cnt_month\\n\")\n",
    "    for i, test_id in enumerate(test.ID):\n",
    "        pred = y_tst_pred[i]\n",
    "        outfile.write(\"%d,%.2f\\n\" % (test_id, pred))\n",
    "print(\"Finished.\")"
   ]
  },
  {
   "cell_type": "code",
   "execution_count": null,
   "metadata": {},
   "outputs": [],
   "source": []
  },
  {
   "cell_type": "code",
   "execution_count": null,
   "metadata": {},
   "outputs": [],
   "source": []
  }
 ],
 "metadata": {
  "anaconda-cloud": {},
  "kernelspec": {
   "display_name": "levon003-conda (fastai)",
   "language": "python",
   "name": "levon003-conda-fastai"
  },
  "language_info": {
   "codemirror_mode": {
    "name": "ipython",
    "version": 3
   },
   "file_extension": ".py",
   "mimetype": "text/x-python",
   "name": "python",
   "nbconvert_exporter": "python",
   "pygments_lexer": "ipython3",
   "version": "3.6.6"
  },
  "toc": {
   "colors": {
    "hover_highlight": "#DAA520",
    "navigate_num": "#000000",
    "navigate_text": "#333333",
    "running_highlight": "#FF0000",
    "selected_highlight": "#FFD700",
    "sidebar_border": "#EEEEEE",
    "wrapper_background": "#FFFFFF"
   },
   "moveMenuLeft": true,
   "nav_menu": {
    "height": "173px",
    "width": "251px"
   },
   "navigate_menu": true,
   "number_sections": true,
   "sideBar": true,
   "threshold": 4,
   "toc_cell": false,
   "toc_section_display": "block",
   "toc_window_display": false,
   "widenNotebook": false
  }
 },
 "nbformat": 4,
 "nbformat_minor": 2
}
